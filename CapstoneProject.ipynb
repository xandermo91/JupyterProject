{
 "cells": [
  {
   "cell_type": "code",
   "execution_count": 26,
   "metadata": {},
   "outputs": [],
   "source": [
    "from datetime import datetime, date\n",
    "import csv\n",
    "import numpy as np\n",
    "import matplotlib.pyplot as plt\n",
    "from sklearn.linear_model import LinearRegression"
   ]
  },
  {
   "cell_type": "code",
   "execution_count": 27,
   "metadata": {},
   "outputs": [],
   "source": [
    "# Here is the array of the 100 meters in the town of Fort Lee.\n",
    "NUMBER_OF_METERS = 100\n",
    "meter_numbers = np.arange(NUMBER_OF_METERS)\n",
    "meters_array = [None] * NUMBER_OF_METERS\n",
    "batteries_day_count = np.array([0, 0, 0, 0, 0, 0, 0, 0, 0, 0, 0])\n",
    "batteries_zone_count = np.array([0, 0, 0, 0])\n",
    "batteries_month_count = np.array([0, 0, 0, 0, 0, 0, 0, 0, 0, 0, 0, 0])"
   ]
  },
  {
   "cell_type": "code",
   "execution_count": 28,
   "metadata": {},
   "outputs": [],
   "source": [
    "# Here are the variables needed to make the\n",
    "# machine learning aspect work.\n",
    "total_days = 0\n",
    "total_num_of_meters_with_battery_changed = 0"
   ]
  },
  {
   "cell_type": "code",
   "execution_count": 29,
   "metadata": {},
   "outputs": [],
   "source": [
    "# This code to import the meter information from the maintenance file.\n",
    "with open('MeterInfo.csv', encoding=\"utf-8-sig\") as csv_file:\n",
    "    csv_reader = csv.reader(csv_file, delimiter=',')\n",
    "    for row in csv_reader:\n",
    "        battery_date_change = datetime(int(row[0]), int(row[1]), int(row[2]))\n",
    "        meter_number = int(row[3])\n",
    "        \n",
    "        # This next if else statement is for the zone bar chart\n",
    "        if 1 <= meter_number <=25:\n",
    "            batteries_zone_count[0] += 1\n",
    "        elif 26 <= meter_number <= 50:\n",
    "            batteries_zone_count[1] += 1\n",
    "        elif 51 <= meter_number <= 75:\n",
    "            batteries_zone_count[2] += 1\n",
    "        elif 76 <= meter_number <= 100:\n",
    "            batteries_zone_count[3] += 1\n",
    "                \n",
    "        # This next if else statement is for the pie chart\n",
    "        month = int(row[1]) - 1\n",
    "        batteries_month_count[month] += 1\n",
    "\n",
    "        if meters_array[meter_number] is None:\n",
    "            meters_array[meter_number] = battery_date_change\n",
    "        else:\n",
    "            difference = battery_date_change - meters_array[meter_number]\n",
    "            total_days = int(difference.days) + total_days\n",
    "            total_num_of_meters_with_battery_changed += 1\n",
    "            meters_array[meter_number] = battery_date_change\n",
    "            \n",
    "            # This next if else statement is to populate the scatter plot.\n",
    "            if int(difference.days) <= 10:\n",
    "                batteries_day_count[1] += 1\n",
    "            elif 11 <= int(difference.days) <= 20:\n",
    "                batteries_day_count[2] += 1\n",
    "            elif 21 <= int(difference.days) <= 30:\n",
    "                batteries_day_count[3] += 1\n",
    "            elif 31 <= int(difference.days) <= 40:\n",
    "                batteries_day_count[4] += 1\n",
    "            elif 41 <= int(difference.days) <= 50:\n",
    "                batteries_day_count[5] += 1\n",
    "            elif 51 <= int(difference.days) <= 60:\n",
    "                batteries_day_count[6] += 1\n",
    "            elif 61 <= int(difference.days) <= 70:\n",
    "                batteries_day_count[7] += 1\n",
    "            elif 71 <= int(difference.days) <= 80:\n",
    "                batteries_day_count[8] += 1\n",
    "            elif 81 <= int(difference.days) <= 90:\n",
    "                batteries_day_count[9] += 1\n",
    "            elif 91 <= int(difference.days) <= 100:\n",
    "                batteries_day_count[10] += 1"
   ]
  },
  {
   "cell_type": "code",
   "execution_count": 30,
   "metadata": {},
   "outputs": [],
   "source": [
    "linreg = LinearRegression()"
   ]
  },
  {
   "cell_type": "code",
   "execution_count": 31,
   "metadata": {},
   "outputs": [],
   "source": [
    "days = np.array([0, 10, 20, 30, 40, 50, 60, 70, 80, 90, 100])"
   ]
  },
  {
   "cell_type": "code",
   "execution_count": 32,
   "metadata": {},
   "outputs": [],
   "source": [
    "days = days.reshape(-1, 1)"
   ]
  },
  {
   "cell_type": "code",
   "execution_count": 33,
   "metadata": {},
   "outputs": [
    {
     "data": {
      "text/plain": [
       "LinearRegression()"
      ]
     },
     "execution_count": 33,
     "metadata": {},
     "output_type": "execute_result"
    }
   ],
   "source": [
    "linreg.fit(days, batteries_day_count)"
   ]
  },
  {
   "cell_type": "code",
   "execution_count": 34,
   "metadata": {},
   "outputs": [],
   "source": [
    "y_pred = linreg.predict(days)"
   ]
  },
  {
   "cell_type": "code",
   "execution_count": 35,
   "metadata": {},
   "outputs": [
    {
     "data": {
      "image/png": "[encoded data removed]",
      "text/plain": [
       "<Figure size 432x288 with 1 Axes>"
      ]
     },
     "metadata": {
      "needs_background": "light"
     },
     "output_type": "display_data"
    }
   ],
   "source": [
    "plt.scatter(days, batteries_day_count)\n",
    "plt.ylabel(\"Num of Meters\")\n",
    "plt.xlabel(\"Num of Days Batteries Lasted\")\n",
    "plt.title(\"Battery Life Visual\")\n",
    "plt.plot(days, y_pred, color='red')\n",
    "plt.show()"
   ]
  },
  {
   "cell_type": "code",
   "execution_count": 41,
   "metadata": {},
   "outputs": [
    {
     "data": {
      "image/png": "[encoded data removed]",
      "text/plain": [
       "<Figure size 432x288 with 1 Axes>"
      ]
     },
     "metadata": {
      "needs_background": "light"
     },
     "output_type": "display_data"
    }
   ],
   "source": [
    "# This next code is for the bar chart\n",
    "months = [\"Jan\", \"Feb\", \"Mar\", \"Apr\", \"May\", \"June\", \"July\", \"Aug\", \"Sept\", \"Oct\", \"Nov\", \"Dec\"]\n",
    "xpos = np.arange(len(months))\n",
    "plt.xticks(xpos, months)\n",
    "plt.ylabel(\"Num of Meters\")\n",
    "plt.xlabel(\"Months\")\n",
    "plt.title(\"Meter Maintenance per Month\")\n",
    "plt.bar(xpos, batteries_month_count)\n",
    "plt.show()"
   ]
  },
  {
   "cell_type": "code",
   "execution_count": 43,
   "metadata": {},
   "outputs": [
    {
     "data": {
      "image/png": "[encoded data removed]",
      "text/plain": [
       "<Figure size 432x288 with 1 Axes>"
      ]
     },
     "metadata": {},
     "output_type": "display_data"
    }
   ],
   "source": [
    "# This code is for the pie chart\n",
    "zone_labels = [1, 2, 3, 4]\n",
    "plt.axis(\"equal\")\n",
    "plt.pie(batteries_zone_count, labels=zone_labels, autopct='%0.0f%%')\n",
    "plt.show()"
   ]
  },
  {
   "cell_type": "code",
   "execution_count": 38,
   "metadata": {},
   "outputs": [
    {
     "name": "stdout",
     "output_type": "stream",
     "text": [
      "Based on the previous maintenance meter information,\n",
      "the average life span of the batteries is 90.33333333333333 days.\n",
      "\n",
      "Here are the meters that will fail soon due to bad batteries:\n",
      "Meter Number 2 Zone: 1\n",
      "Meter Number 3 Zone: 1\n",
      "Meter Number 4 Zone: 1\n",
      "Meter Number 6 Zone: 1\n",
      "Meter Number 7 Zone: 1\n",
      "Meter Number 8 Zone: 1\n",
      "Meter Number 9 Zone: 1\n",
      "Meter Number 10 Zone: 1\n",
      "Meter Number 11 Zone: 1\n",
      "Meter Number 14 Zone: 1\n",
      "Meter Number 15 Zone: 1\n",
      "Meter Number 16 Zone: 1\n",
      "Meter Number 17 Zone: 1\n",
      "Meter Number 18 Zone: 1\n",
      "Meter Number 21 Zone: 1\n",
      "Meter Number 24 Zone: 1\n",
      "Meter Number 25 Zone: 1\n",
      "Meter Number 26 Zone: 1\n",
      "Meter Number 27 Zone: 2\n",
      "Meter Number 28 Zone: 2\n",
      "Meter Number 29 Zone: 2\n",
      "Meter Number 31 Zone: 2\n",
      "Meter Number 32 Zone: 2\n",
      "Meter Number 33 Zone: 2\n",
      "Meter Number 35 Zone: 2\n",
      "Meter Number 36 Zone: 2\n",
      "Meter Number 37 Zone: 2\n",
      "Meter Number 38 Zone: 2\n",
      "Meter Number 40 Zone: 2\n",
      "Meter Number 41 Zone: 2\n",
      "Meter Number 43 Zone: 2\n",
      "Meter Number 45 Zone: 2\n",
      "Meter Number 46 Zone: 2\n",
      "Meter Number 47 Zone: 2\n",
      "Meter Number 48 Zone: 2\n",
      "Meter Number 49 Zone: 2\n",
      "Meter Number 50 Zone: 2\n",
      "Meter Number 53 Zone: 3\n",
      "Meter Number 54 Zone: 3\n",
      "Meter Number 56 Zone: 3\n",
      "Meter Number 57 Zone: 3\n",
      "Meter Number 59 Zone: 3\n",
      "Meter Number 60 Zone: 3\n",
      "Meter Number 61 Zone: 3\n",
      "Meter Number 62 Zone: 3\n",
      "Meter Number 63 Zone: 3\n",
      "Meter Number 64 Zone: 3\n",
      "Meter Number 68 Zone: 3\n",
      "Meter Number 69 Zone: 3\n",
      "Meter Number 70 Zone: 3\n",
      "Meter Number 72 Zone: 3\n",
      "Meter Number 74 Zone: 3\n",
      "Meter Number 75 Zone: 3\n",
      "Meter Number 76 Zone: 3\n",
      "Meter Number 77 Zone: 4\n",
      "Meter Number 78 Zone: 4\n",
      "Meter Number 79 Zone: 4\n",
      "Meter Number 80 Zone: 4\n",
      "Meter Number 81 Zone: 4\n",
      "Meter Number 82 Zone: 4\n",
      "Meter Number 83 Zone: 4\n",
      "Meter Number 85 Zone: 4\n",
      "Meter Number 86 Zone: 4\n",
      "Meter Number 87 Zone: 4\n",
      "Meter Number 88 Zone: 4\n",
      "Meter Number 89 Zone: 4\n",
      "Meter Number 90 Zone: 4\n",
      "Meter Number 91 Zone: 4\n",
      "Meter Number 92 Zone: 4\n",
      "Meter Number 93 Zone: 4\n",
      "Meter Number 94 Zone: 4\n",
      "Meter Number 95 Zone: 4\n",
      "Meter Number 97 Zone: 4\n",
      "Meter Number 98 Zone: 4\n"
     ]
    }
   ],
   "source": [
    "# Now print out the meters that need to be changed soon\n",
    "average_fail_time = total_days / total_num_of_meters_with_battery_changed\n",
    "count = 0\n",
    "print(\"Based on the previous maintenance meter information,\")\n",
    "print(\"the average life span of the batteries is \" + str(average_fail_time) + \" days.\")\n",
    "print()\n",
    "print(\"Here are the meters that will fail soon due to bad batteries:\")\n",
    "while count < NUMBER_OF_METERS - 1:\n",
    "    if meters_array[count] is not None:\n",
    "        num_of_days_since_changed = datetime.today() - meters_array[count]\n",
    "        if int(num_of_days_since_changed.days) > average_fail_time:\n",
    "            if 0 <= count <= 25:\n",
    "                print(\"Meter Number \" + str((count + 1)) + \" Zone: 1\")\n",
    "            if 26 <= count <= 50:\n",
    "                print(\"Meter Number \" + str((count + 1)) + \" Zone: 2\")\n",
    "            if 51 <= count <= 75:\n",
    "                print(\"Meter Number \" + str((count + 1)) + \" Zone: 3\")\n",
    "            if 76 <= count <= 100:\n",
    "                print(\"Meter Number \" + str((count + 1)) + \" Zone: 4\")\n",
    "            \n",
    "    count += 1"
   ]
  },
  {
   "cell_type": "code",
   "execution_count": null,
   "metadata": {},
   "outputs": [],
   "source": []
  }
 ],
 "metadata": {
  "kernelspec": {
   "display_name": "Python 3",
   "language": "python",
   "name": "python3"
  },
  "language_info": {
   "codemirror_mode": {
    "name": "ipython",
    "version": 3
   },
   "file_extension": ".py",
   "mimetype": "text/x-python",
   "name": "python",
   "nbconvert_exporter": "python",
   "pygments_lexer": "ipython3",
   "version": "3.8.5"
  }
 },
 "nbformat": 4,
 "nbformat_minor": 4
}
